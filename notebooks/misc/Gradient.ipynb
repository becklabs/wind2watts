{
 "cells": [
  {
   "attachments": {},
   "cell_type": "markdown",
   "metadata": {},
   "source": [
    "#### Notebook for verifying gradient calculation"
   ]
  },
  {
   "cell_type": "code",
   "execution_count": 46,
   "metadata": {},
   "outputs": [],
   "source": [
    "import numpy as np\n",
    "import pandas as pd\n",
    "import matplotlib.pyplot as plt\n",
    "\n",
    "from wind2watts.fit.util import fit_to_df\n",
    "from wind2watts.data.util import velocity, airspeed, haversine"
   ]
  },
  {
   "cell_type": "code",
   "execution_count": 81,
   "metadata": {},
   "outputs": [],
   "source": [
    "df = pd.read_csv(\n",
    "    \"../../data/dataframes/strava_export/5423193666.csv\", parse_dates=[\"timestamp\"]\n",
    ")"
   ]
  },
  {
   "cell_type": "code",
   "execution_count": 82,
   "metadata": {},
   "outputs": [
    {
     "data": {
      "text/plain": [
       "Index(['altitude', 'cadence', 'compressed_speed_distance', 'cycle_length',\n",
       "       'distance', 'enhanced_altitude', 'enhanced_speed', 'grade',\n",
       "       'heart_rate', 'position_lat', 'position_long', 'power', 'resistance',\n",
       "       'speed', 'temperature', 'time_from_course', 'timestamp', 'year',\n",
       "       'month', 'day', 'hour', 'wind_speed', 'wind_direction'],\n",
       "      dtype='object')"
      ]
     },
     "execution_count": 82,
     "metadata": {},
     "output_type": "execute_result"
    }
   ],
   "source": [
    "df.columns"
   ]
  },
  {
   "cell_type": "code",
   "execution_count": 144,
   "metadata": {},
   "outputs": [],
   "source": [
    "def smooth_gradient(\n",
    "    lat: np.ndarray,\n",
    "    long: np.ndarray,\n",
    "    altitude: np.ndarray,\n",
    "    gradient_window: int = 3,\n",
    "    altitude_window: int = 5,\n",
    "):\n",
    "    \"\"\"\n",
    "    Args:\n",
    "        lat: 1D Numpy array representing latitudes of the points.\n",
    "        long: 1D Numpy array representing longitudes of the points.\n",
    "        altitude: 1D Numpy array representing altitudes of the points.\n",
    "        gradient_window: The size of the moving window for smoothing the calculated gradient. Default is 3.\n",
    "        altitude_window: The size of the moving window for smoothing the altitude values before gradient calculation. Default is 5.\n",
    "\n",
    "    Returns:\n",
    "        gradient: A 1D numpy array representing the smoothed gradient.\n",
    "\n",
    "    Note:\n",
    "        This function relies on the haversine() function to calculate the distance between latitude/longitude points. In case of any division by zero during the gradient calculation, those values are replaced by NaN.\n",
    "    \"\"\"\n",
    "    lat1 = lat[:-1]\n",
    "    lon1 = long[:-1]\n",
    "\n",
    "    lat2 = lat[1:]\n",
    "    lon2 = long[1:]\n",
    "\n",
    "    dx = haversine(lat1, lon1, lat2, lon2)\n",
    "    dx[dx == 0] = np.nan\n",
    "\n",
    "    smoothed_y = pd.Series(altitude).rolling(altitude_window).mean().values\n",
    "    dy = smoothed_y[1:] - smoothed_y[:-1]\n",
    "\n",
    "    gradient = pd.Series(dy / dx).rolling(gradient_window).mean().interpolate().values\n",
    "\n",
    "    return gradient"
   ]
  },
  {
   "cell_type": "code",
   "execution_count": 145,
   "metadata": {},
   "outputs": [
    {
     "data": {
      "text/plain": [
       "(3607, 3606)"
      ]
     },
     "execution_count": 145,
     "metadata": {},
     "output_type": "execute_result"
    }
   ],
   "source": [
    "lat = df[\"position_lat\"].values\n",
    "long = df[\"position_long\"].values\n",
    "altitude = df[\"altitude\"].values\n",
    "\n",
    "gradient = smooth_gradient(lat, long, altitude)\n",
    "\n",
    "len(altitude), len(gradient)"
   ]
  },
  {
   "cell_type": "code",
   "execution_count": null,
   "metadata": {},
   "outputs": [],
   "source": [
    "lat1 = lat[:-1]\n",
    "lon1 = long[:-1]\n",
    "\n",
    "lat2 = lat[1:]\n",
    "lon2 = long[1:]\n",
    "\n",
    "dx = haversine(lat1, lon1, lat2, lon2)\n",
    "dx = pd.Series(dx).rolling(5, center=True).mean().values\n",
    "\n",
    "# Take a 3 point moving average of dx\n",
    "# dx_w = (dx[:-2] + dx[1:-1] + dx[2:]) / 3\n",
    "# # Handle divide by zero\n",
    "# eps = 1e-6\n",
    "# mask_w = (dx_w < eps)\n",
    "# dx_w[mask_w] = np.nan\n",
    "\n",
    "# mask = (dx < eps)\n",
    "# dx[mask] = np.nan\n",
    "\n",
    "\n",
    "# altitude = df['altitude'].values\n",
    "# altitude = pd.Series(altitude).rolling(5, center=True).mean().values\n",
    "# # Take a 3 point moving average of altitude\n",
    "# #altitude = (altitude[:-2] + altitude[1:-1] + altitude[2:]) / 3\n",
    "\n",
    "# dy = altitude[1:] - altitude[:-1]\n",
    "# print(len(dx), len(dy))\n",
    "\n",
    "# gradient_w = dy[2:] / dx_w\n",
    "# gradient = dy / dx\n",
    "\n",
    "\n",
    "# # # Plot non-nan values\n",
    "# mask = ~np.isnan(gradient)\n",
    "\n",
    "# #plt.plot(gradient[mask], label='gradient')\n",
    "# plt.plot(gradient_w[mask_w], label='gradient_w')\n",
    "# plt.legend()\n",
    "# # plt.plot(altitude[:100])"
   ]
  }
 ],
 "metadata": {
  "kernelspec": {
   "display_name": "env",
   "language": "python",
   "name": "python3"
  },
  "language_info": {
   "codemirror_mode": {
    "name": "ipython",
    "version": 3
   },
   "file_extension": ".py",
   "mimetype": "text/x-python",
   "name": "python",
   "nbconvert_exporter": "python",
   "pygments_lexer": "ipython3",
   "version": "3.9.13"
  },
  "orig_nbformat": 4
 },
 "nbformat": 4,
 "nbformat_minor": 2
}
